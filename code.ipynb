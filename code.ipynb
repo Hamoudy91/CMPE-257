{
  "nbformat": 4,
  "nbformat_minor": 0,
  "metadata": {
    "colab": {
      "provenance": []
    },
    "kernelspec": {
      "name": "python3",
      "display_name": "Python 3"
    },
    "language_info": {
      "name": "python"
    }
  },
  "cells": [
    {
      "cell_type": "code",
      "execution_count": 4,
      "metadata": {
        "colab": {
          "base_uri": "https://localhost:8080/"
        },
        "id": "tkmGAUpQw9vS",
        "outputId": "fdbaa6a0-80bb-4df3-8000-be7006c730b6"
      },
      "outputs": [
        {
          "output_type": "stream",
          "name": "stdout",
          "text": [
            "Fitting 3 folds for each of 4 candidates, totalling 12 fits\n"
          ]
        },
        {
          "output_type": "stream",
          "name": "stderr",
          "text": [
            "/usr/local/lib/python3.10/dist-packages/sklearn/model_selection/_search.py:307: UserWarning: The total space of parameters 4 is smaller than n_iter=5. Running 4 iterations. For exhaustive searches, use GridSearchCV.\n",
            "  warnings.warn(\n",
            "/usr/local/lib/python3.10/dist-packages/sklearn/model_selection/_search.py:307: UserWarning: The total space of parameters 2 is smaller than n_iter=5. Running 2 iterations. For exhaustive searches, use GridSearchCV.\n",
            "  warnings.warn(\n"
          ]
        },
        {
          "output_type": "stream",
          "name": "stdout",
          "text": [
            "Fitting 3 folds for each of 2 candidates, totalling 6 fits\n"
          ]
        },
        {
          "output_type": "stream",
          "name": "stderr",
          "text": [
            "/usr/local/lib/python3.10/dist-packages/sklearn/model_selection/_search.py:307: UserWarning: The total space of parameters 2 is smaller than n_iter=5. Running 2 iterations. For exhaustive searches, use GridSearchCV.\n",
            "  warnings.warn(\n"
          ]
        },
        {
          "output_type": "stream",
          "name": "stdout",
          "text": [
            "Fitting 3 folds for each of 2 candidates, totalling 6 fits\n"
          ]
        },
        {
          "output_type": "execute_result",
          "data": {
            "text/plain": [
              "{'Random Forest': {'MAE': 63436.77621518436,\n",
              "  'MSE': 6785998918.106205,\n",
              "  'R²': 0.0644739732700228},\n",
              " 'SVR': {'MAE': 56804.41215971462,\n",
              "  'MSE': 8690136577.633966,\n",
              "  'R²': -0.1980327498318517},\n",
              " 'Gradient Boosting': {'MAE': 61790.0657695027,\n",
              "  'MSE': 6368633455.603672,\n",
              "  'R²': 0.12201248123935216}}"
            ]
          },
          "metadata": {},
          "execution_count": 4
        }
      ],
      "source": [
        "# Import necessary libraries\n",
        "import pandas as pd\n",
        "from sklearn.model_selection import train_test_split, RandomizedSearchCV\n",
        "from sklearn.preprocessing import StandardScaler\n",
        "from sklearn.ensemble import RandomForestRegressor, GradientBoostingRegressor\n",
        "from sklearn.svm import SVR\n",
        "from sklearn.metrics import mean_absolute_error, mean_squared_error, r2_score\n",
        "\n",
        "# Load the dataset\n",
        "yield_df_data = pd.read_csv('/content/yield_df.csv')\n",
        "# Feature Engineering\n",
        "yield_df_data['temp_rain_interaction'] = yield_df_data['avg_temp'] * yield_df_data['average_rain_fall_mm_per_year']\n",
        "yield_df_data['pesticides_rain_interaction'] = yield_df_data['pesticides_tonnes'] * yield_df_data['average_rain_fall_mm_per_year']\n",
        "yield_df_data['pesticides_temp_interaction'] = yield_df_data['pesticides_tonnes'] * yield_df_data['avg_temp']\n",
        "yield_df_data['temp_squared'] = yield_df_data['avg_temp'] ** 2\n",
        "\n",
        "# Scaling features\n",
        "features_to_scale = ['average_rain_fall_mm_per_year', 'pesticides_tonnes', 'avg_temp', 'temp_rain_interaction',\n",
        "                     'pesticides_rain_interaction', 'pesticides_temp_interaction', 'temp_squared']\n",
        "\n",
        "scaler = StandardScaler()\n",
        "yield_df_data[features_to_scale] = scaler.fit_transform(yield_df_data[features_to_scale])\n",
        "\n",
        "# Splitting the data\n",
        "X = yield_df_data[features_to_scale]\n",
        "y = yield_df_data['hg/ha_yield']\n",
        "X_train, X_test, y_train, y_test = train_test_split(X, y, test_size=0.2, random_state=42)\n",
        "\n",
        "# Model Selection and Tuning\n",
        "# Random Forest Tuning\n",
        "rf_param_grid = {\n",
        "    'n_estimators': [50, 100],\n",
        "    'max_depth': [10, 20],\n",
        "    'max_features': ['sqrt']\n",
        "}\n",
        "rf_random_search = RandomizedSearchCV(RandomForestRegressor(random_state=42), rf_param_grid, n_iter=5, cv=3, n_jobs=-1, verbose=1, random_state=42)\n",
        "rf_random_search.fit(X_train, y_train)\n",
        "rf_best_model = rf_random_search.best_estimator_\n",
        "\n",
        "# SVR Tuning\n",
        "svr_param_grid = {\n",
        "    'C': [1, 10],\n",
        "    'kernel': ['rbf'],\n",
        "    'gamma': ['scale']\n",
        "}\n",
        "svr_random_search = RandomizedSearchCV(SVR(), svr_param_grid, n_iter=5, cv=3, n_jobs=-1, verbose=1, random_state=42)\n",
        "svr_random_search.fit(X_train, y_train)\n",
        "svr_best_model = svr_random_search.best_estimator_\n",
        "\n",
        "# Gradient Boosting Tuning\n",
        "gbr_param_grid = {\n",
        "    'n_estimators': [100],\n",
        "    'learning_rate': [0.1],\n",
        "    'max_depth': [3, 5]\n",
        "}\n",
        "gbr_random_search = RandomizedSearchCV(GradientBoostingRegressor(random_state=42), gbr_param_grid, n_iter=5, cv=3, n_jobs=-1, verbose=1, random_state=42)\n",
        "gbr_random_search.fit(X_train, y_train)\n",
        "gbr_best_model = gbr_random_search.best_estimator_\n",
        "\n",
        "# Model Evaluation\n",
        "models = {\n",
        "    'Random Forest': rf_best_model,\n",
        "    'SVR': svr_best_model,\n",
        "    'Gradient Boosting': gbr_best_model\n",
        "}\n",
        "\n",
        "results = {}\n",
        "for name, model in models.items():\n",
        "    predictions = model.predict(X_test)\n",
        "    mae = mean_absolute_error(y_test, predictions)\n",
        "    mse = mean_squared_error(y_test, predictions)\n",
        "    r2 = r2_score(y_test, predictions)\n",
        "    results[name] = {'MAE': mae, 'MSE': mse, 'R²': r2}\n",
        "\n",
        "results"
      ]
    }
  ]
}
