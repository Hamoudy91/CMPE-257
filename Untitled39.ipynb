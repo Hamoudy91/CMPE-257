{
  "nbformat": 4,
  "nbformat_minor": 0,
  "metadata": {
    "colab": {
      "provenance": []
    },
    "kernelspec": {
      "name": "python3",
      "display_name": "Python 3"
    },
    "language_info": {
      "name": "python"
    }
  },
  "cells": [
    {
      "cell_type": "code",
      "source": [
        "pip install pandas numpy matplotlib scikit-learn"
      ],
      "metadata": {
        "colab": {
          "base_uri": "https://localhost:8080/"
        },
        "id": "PhRP7HVoA5Ni",
        "outputId": "8658e8f1-d585-4d7d-b864-b2a92e222d93"
      },
      "execution_count": 1,
      "outputs": [
        {
          "output_type": "stream",
          "name": "stdout",
          "text": [
            "Requirement already satisfied: pandas in /usr/local/lib/python3.10/dist-packages (2.1.4)\n",
            "Requirement already satisfied: numpy in /usr/local/lib/python3.10/dist-packages (1.26.4)\n",
            "Requirement already satisfied: matplotlib in /usr/local/lib/python3.10/dist-packages (3.7.1)\n",
            "Requirement already satisfied: scikit-learn in /usr/local/lib/python3.10/dist-packages (1.3.2)\n",
            "Requirement already satisfied: python-dateutil>=2.8.2 in /usr/local/lib/python3.10/dist-packages (from pandas) (2.8.2)\n",
            "Requirement already satisfied: pytz>=2020.1 in /usr/local/lib/python3.10/dist-packages (from pandas) (2024.1)\n",
            "Requirement already satisfied: tzdata>=2022.1 in /usr/local/lib/python3.10/dist-packages (from pandas) (2024.1)\n",
            "Requirement already satisfied: contourpy>=1.0.1 in /usr/local/lib/python3.10/dist-packages (from matplotlib) (1.2.1)\n",
            "Requirement already satisfied: cycler>=0.10 in /usr/local/lib/python3.10/dist-packages (from matplotlib) (0.12.1)\n",
            "Requirement already satisfied: fonttools>=4.22.0 in /usr/local/lib/python3.10/dist-packages (from matplotlib) (4.53.1)\n",
            "Requirement already satisfied: kiwisolver>=1.0.1 in /usr/local/lib/python3.10/dist-packages (from matplotlib) (1.4.5)\n",
            "Requirement already satisfied: packaging>=20.0 in /usr/local/lib/python3.10/dist-packages (from matplotlib) (24.1)\n",
            "Requirement already satisfied: pillow>=6.2.0 in /usr/local/lib/python3.10/dist-packages (from matplotlib) (9.4.0)\n",
            "Requirement already satisfied: pyparsing>=2.3.1 in /usr/local/lib/python3.10/dist-packages (from matplotlib) (3.1.2)\n",
            "Requirement already satisfied: scipy>=1.5.0 in /usr/local/lib/python3.10/dist-packages (from scikit-learn) (1.13.1)\n",
            "Requirement already satisfied: joblib>=1.1.1 in /usr/local/lib/python3.10/dist-packages (from scikit-learn) (1.4.2)\n",
            "Requirement already satisfied: threadpoolctl>=2.0.0 in /usr/local/lib/python3.10/dist-packages (from scikit-learn) (3.5.0)\n",
            "Requirement already satisfied: six>=1.5 in /usr/local/lib/python3.10/dist-packages (from python-dateutil>=2.8.2->pandas) (1.16.0)\n"
          ]
        }
      ]
    },
    {
      "cell_type": "code",
      "source": [
        "import pandas as pd\n",
        "\n",
        "# Load each dataset\n",
        "pesticides_data = pd.read_csv('/content/pesticides.csv')\n",
        "rainfall_data = pd.read_csv('/content/rainfall.csv')\n",
        "temperature_data = pd.read_csv('/content/temp.csv')\n",
        "yield_df_data = pd.read_csv('/content/yield.csv')\n",
        "yield_data = pd.read_csv('/content/yield_df.csv')\n",
        "\n",
        "# Display the first few rows of each dataset to understand their structure\n",
        "print(\"Pesticides Data:\")\n",
        "print(pesticides_data.head(), \"\\n\")\n",
        "print(\"Rainfall Data:\")\n",
        "print(rainfall_data.head(), \"\\n\")\n",
        "print(\"Temperature Data:\")\n",
        "print(temperature_data.head(), \"\\n\")\n",
        "print(\"Yield_df Data:\")\n",
        "print(yield_df_data.head(), \"\\n\")\n",
        "print(\"Yield Data:\")\n",
        "print(yield_data.head(), \"\\n\")"
      ],
      "metadata": {
        "colab": {
          "base_uri": "https://localhost:8080/"
        },
        "id": "3Vh8G-MXBXFl",
        "outputId": "26f55002-39e9-4ecd-8602-700a6720c96f"
      },
      "execution_count": 3,
      "outputs": [
        {
          "output_type": "stream",
          "name": "stdout",
          "text": [
            "Pesticides Data:\n",
            "           Domain     Area Element                Item  Year  \\\n",
            "0  Pesticides Use  Albania     Use  Pesticides (total)  1990   \n",
            "1  Pesticides Use  Albania     Use  Pesticides (total)  1991   \n",
            "2  Pesticides Use  Albania     Use  Pesticides (total)  1992   \n",
            "3  Pesticides Use  Albania     Use  Pesticides (total)  1993   \n",
            "4  Pesticides Use  Albania     Use  Pesticides (total)  1994   \n",
            "\n",
            "                           Unit  Value  \n",
            "0  tonnes of active ingredients  121.0  \n",
            "1  tonnes of active ingredients  121.0  \n",
            "2  tonnes of active ingredients  121.0  \n",
            "3  tonnes of active ingredients  121.0  \n",
            "4  tonnes of active ingredients  201.0   \n",
            "\n",
            "Rainfall Data:\n",
            "          Area  Year average_rain_fall_mm_per_year\n",
            "0  Afghanistan  1985                           327\n",
            "1  Afghanistan  1986                           327\n",
            "2  Afghanistan  1987                           327\n",
            "3  Afghanistan  1989                           327\n",
            "4  Afghanistan  1990                           327 \n",
            "\n",
            "Temperature Data:\n",
            "   year        country  avg_temp\n",
            "0  1849  Côte D'Ivoire     25.58\n",
            "1  1850  Côte D'Ivoire     25.52\n",
            "2  1851  Côte D'Ivoire     25.67\n",
            "3  1852  Côte D'Ivoire       NaN\n",
            "4  1853  Côte D'Ivoire       NaN \n",
            "\n",
            "Yield_df Data:\n",
            "  Domain Code Domain  Area Code         Area  Element Code Element  Item Code  \\\n",
            "0          QC  Crops          2  Afghanistan          5419   Yield         56   \n",
            "1          QC  Crops          2  Afghanistan          5419   Yield         56   \n",
            "2          QC  Crops          2  Afghanistan          5419   Yield         56   \n",
            "3          QC  Crops          2  Afghanistan          5419   Yield         56   \n",
            "4          QC  Crops          2  Afghanistan          5419   Yield         56   \n",
            "\n",
            "    Item  Year Code  Year   Unit  Value  \n",
            "0  Maize       1961  1961  hg/ha  14000  \n",
            "1  Maize       1962  1962  hg/ha  14000  \n",
            "2  Maize       1963  1963  hg/ha  14260  \n",
            "3  Maize       1964  1964  hg/ha  14257  \n",
            "4  Maize       1965  1965  hg/ha  14400   \n",
            "\n",
            "Yield Data:\n",
            "   Unnamed: 0     Area         Item  Year  hg/ha_yield  \\\n",
            "0           0  Albania        Maize  1990        36613   \n",
            "1           1  Albania     Potatoes  1990        66667   \n",
            "2           2  Albania  Rice, paddy  1990        23333   \n",
            "3           3  Albania      Sorghum  1990        12500   \n",
            "4           4  Albania     Soybeans  1990         7000   \n",
            "\n",
            "   average_rain_fall_mm_per_year  pesticides_tonnes  avg_temp  \n",
            "0                         1485.0              121.0     16.37  \n",
            "1                         1485.0              121.0     16.37  \n",
            "2                         1485.0              121.0     16.37  \n",
            "3                         1485.0              121.0     16.37  \n",
            "4                         1485.0              121.0     16.37   \n",
            "\n"
          ]
        }
      ]
    },
    {
      "cell_type": "code",
      "source": [
        "import pandas as pd\n",
        "from sklearn.model_selection import train_test_split\n",
        "from sklearn.preprocessing import StandardScaler\n",
        "from sklearn.ensemble import RandomForestRegressor\n",
        "from sklearn.metrics import mean_absolute_error, mean_squared_error, r2_score\n",
        "\n",
        "# Load the dataset\n",
        "yield_df_data = pd.read_csv('/content/yield_df.csv')  # Update the path as needed\n",
        "\n",
        "# Display the first few rows and column names\n",
        "print(yield_df_data.head())\n",
        "print(\"Columns in the dataset:\", yield_df_data.columns)"
      ],
      "metadata": {
        "colab": {
          "base_uri": "https://localhost:8080/"
        },
        "id": "APHsQWO9D_81",
        "outputId": "f98d158d-01f6-408c-e8bf-a6b7cb5b5733"
      },
      "execution_count": 13,
      "outputs": [
        {
          "output_type": "stream",
          "name": "stdout",
          "text": [
            "   Unnamed: 0     Area         Item  Year  hg/ha_yield  \\\n",
            "0           0  Albania        Maize  1990        36613   \n",
            "1           1  Albania     Potatoes  1990        66667   \n",
            "2           2  Albania  Rice, paddy  1990        23333   \n",
            "3           3  Albania      Sorghum  1990        12500   \n",
            "4           4  Albania     Soybeans  1990         7000   \n",
            "\n",
            "   average_rain_fall_mm_per_year  pesticides_tonnes  avg_temp  \n",
            "0                         1485.0              121.0     16.37  \n",
            "1                         1485.0              121.0     16.37  \n",
            "2                         1485.0              121.0     16.37  \n",
            "3                         1485.0              121.0     16.37  \n",
            "4                         1485.0              121.0     16.37  \n",
            "Columns in the dataset: Index(['Unnamed: 0', 'Area', 'Item', 'Year', 'hg/ha_yield',\n",
            "       'average_rain_fall_mm_per_year', 'pesticides_tonnes', 'avg_temp'],\n",
            "      dtype='object')\n"
          ]
        }
      ]
    },
    {
      "cell_type": "code",
      "source": [
        "# Identify numeric columns\n",
        "numeric_cols = yield_df_data.select_dtypes(include=[np.number]).columns\n",
        "\n",
        "# Compute median for numeric columns only\n",
        "numeric_medians = yield_df_data[numeric_cols].median()\n",
        "\n",
        "# Fill missing values in numeric columns with their respective medians\n",
        "yield_df_data[numeric_cols] = yield_df_data[numeric_cols].fillna(numeric_medians)"
      ],
      "metadata": {
        "id": "zDfbOoqUER-Z"
      },
      "execution_count": 15,
      "outputs": []
    },
    {
      "cell_type": "code",
      "source": [
        "# Adding interaction terms\n",
        "yield_df_data['pesticides_rain_interaction'] = yield_df_data['pesticides_tonnes'] * yield_df_data['average_rain_fall_mm_per_year']\n",
        "yield_df_data['pesticides_temp_interaction'] = yield_df_data['pesticides_tonnes'] * yield_df_data['avg_temp']\n",
        "\n",
        "# Adding polynomial features\n",
        "yield_df_data['temp_squared'] = yield_df_data['avg_temp'] ** 2"
      ],
      "metadata": {
        "id": "aE2KAA-nFHCb"
      },
      "execution_count": 16,
      "outputs": []
    },
    {
      "cell_type": "code",
      "source": [
        "# creating interaction terms\n",
        "yield_df_data['temp_rain_interaction'] = yield_df_data['avg_temp'] * yield_df_data['average_rain_fall_mm_per_year']\n",
        "yield_df_data['pesticides_rain_interaction'] = yield_df_data['pesticides_tonnes'] * yield_df_data['average_rain_fall_mm_per_year']\n",
        "yield_df_data['pesticides_temp_interaction'] = yield_df_data['pesticides_tonnes'] * yield_df_data['avg_temp']\n",
        "\n",
        "# creating polynomial features\n",
        "yield_df_data['temp_squared'] = yield_df_data['avg_temp'] ** 2"
      ],
      "metadata": {
        "id": "Hbt1DUFMFJuQ"
      },
      "execution_count": 18,
      "outputs": []
    },
    {
      "cell_type": "code",
      "source": [
        "# List of all features to scale\n",
        "all_features = ['average_rain_fall_mm_per_year', 'pesticides_tonnes', 'avg_temp', 'temp_rain_interaction',\n",
        "                'pesticides_rain_interaction', 'pesticides_temp_interaction', 'temp_squared']\n",
        "\n",
        "# Scaling the features\n",
        "scaler = StandardScaler()\n",
        "yield_df_data[all_features] = scaler.fit_transform(yield_df_data[all_features])"
      ],
      "metadata": {
        "id": "CIwbdFTJFclm"
      },
      "execution_count": 19,
      "outputs": []
    },
    {
      "cell_type": "code",
      "source": [
        "# Splitting the data to include new features\n",
        "X = yield_df_data[all_features]\n",
        "y = yield_df_data['hg/ha_yield']\n",
        "X_train, X_test, y_train, y_test = train_test_split(X, y, test_size=0.2, random_state=42)"
      ],
      "metadata": {
        "id": "AdrpNCSJFgDK"
      },
      "execution_count": 20,
      "outputs": []
    },
    {
      "cell_type": "code",
      "source": [
        "# Fit the model on the updated training data\n",
        "rf_model = RandomForestRegressor(random_state=42)\n",
        "rf_model.fit(X_train, y_train)\n",
        "\n",
        "# Predict on the updated test data\n",
        "y_pred = rf_model.predict(X_test)\n",
        "\n",
        "# Evaluation metrics\n",
        "mae = mean_absolute_error(y_test, y_pred)\n",
        "mse = mean_squared_error(y_test, y_pred)\n",
        "r2 = r2_score(y_test, y_pred)\n",
        "\n",
        "# Output the updated evaluation metrics\n",
        "print(\"Updated Mean Absolute Error:\", mae)\n",
        "print(\"Updated Mean Squared Error:\", mse)\n",
        "print(\"Updated R² Score:\", r2)"
      ],
      "metadata": {
        "colab": {
          "base_uri": "https://localhost:8080/"
        },
        "id": "wy40AXrPLl7t",
        "outputId": "4caeabd2-7306-400d-ffb7-a5335853e13c"
      },
      "execution_count": 21,
      "outputs": [
        {
          "output_type": "stream",
          "name": "stdout",
          "text": [
            "Updated Mean Absolute Error: 70936.63234722072\n",
            "Updated Mean Squared Error: 8705582107.37642\n",
            "Updated R² Score: -0.20016208926221046\n"
          ]
        }
      ]
    }
  ]
}